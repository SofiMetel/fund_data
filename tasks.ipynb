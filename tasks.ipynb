{
 "cells": [
  {
   "cell_type": "markdown",
   "metadata": {},
   "source": [
    "# Fundamentals of Data Analysis Tasks\n",
    "\n",
    "\n",
    "Sofiia Meteliuk \n",
    "***\n",
    "\n"
   ]
  },
  {
   "cell_type": "markdown",
   "metadata": {},
   "source": []
  },
  {
   "cell_type": "code",
   "execution_count": 15,
   "metadata": {},
   "outputs": [],
   "source": [
    "def collatz(x):\n",
    "    seq=[x]\n",
    "    #print(f'testing collatz with initial value {x}')\n",
    "    while x != 1:\n",
    "        if x %2 ==0:\n",
    "            x= x//2\n",
    "        else:\n",
    "            x= (3*x)+1\n",
    "        seq.append(x)\n",
    "    return seq\n",
    "        \n"
   ]
  },
  {
   "cell_type": "code",
   "execution_count": 49,
   "metadata": {},
   "outputs": [],
   "source": [
    "def proof_of_collatz():\n",
    "    for i in range(1, 10001, 1):\n",
    "        answer = collatz(i)[-1]\n",
    "        #print(f' collatz conjecture : {collatz(i)}')\n",
    "        if answer != 1:\n",
    "            print(f' Collatz Conjecture False for {i}')\n",
    "            break\n",
    "    return print(f' Collatz conjecture is true for the first 10,000 positive integers') "
   ]
  },
  {
   "cell_type": "code",
   "execution_count": 50,
   "metadata": {},
   "outputs": [
    {
     "name": "stdout",
     "output_type": "stream",
     "text": [
      " Collatz conjecture is true for the first 10,000 positive integers\n"
     ]
    }
   ],
   "source": [
    "proof_of_collatz()"
   ]
  }
 ],
 "metadata": {
  "kernelspec": {
   "display_name": "base",
   "language": "python",
   "name": "python3"
  },
  "language_info": {
   "codemirror_mode": {
    "name": "ipython",
    "version": 3
   },
   "file_extension": ".py",
   "mimetype": "text/x-python",
   "name": "python",
   "nbconvert_exporter": "python",
   "pygments_lexer": "ipython3",
   "version": "3.8.8"
  }
 },
 "nbformat": 4,
 "nbformat_minor": 2
}
